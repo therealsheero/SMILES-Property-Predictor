{
 "cells": [
  {
   "cell_type": "code",
   "execution_count": null,
   "id": "ce408561",
   "metadata": {},
   "outputs": [
    {
     "name": "stderr",
     "output_type": "stream",
     "text": [
      "c:\\Users\\acer\\AppData\\Local\\Programs\\Python\\Python310\\lib\\site-packages\\huggingface_hub\\file_download.py:943: FutureWarning: `resume_download` is deprecated and will be removed in version 1.0.0. Downloads always resume when possible. If you want to force a new download, use `force_download=True`.\n",
      "  warnings.warn(\n",
      "Some weights of RobertaForSequenceClassification were not initialized from the model checkpoint at seyonec/ChemBERTa-zinc-base-v1 and are newly initialized: ['classifier.dense.bias', 'classifier.dense.weight', 'classifier.out_proj.bias', 'classifier.out_proj.weight']\n",
      "You should probably TRAIN this model on a down-stream task to be able to use it for predictions and inference.\n"
     ]
    },
    {
     "name": "stdout",
     "output_type": "stream",
     "text": [
      "Canonical SMILES: Cc1occc1C(=O)Nc1ccccc1\n",
      "Molecular Formula: C12H11NO2\n",
      "Molecular Weight: 201.225\n",
      "LogP: 2.84\n",
      "H-Bond Donors: 1\n",
      "H-Bond Acceptors: 2\n",
      "TPSA (Å²): 42.24\n",
      "Rotatable Bonds: 2\n",
      "Formal Charge: 0\n",
      "QED Score: 0.811\n",
      "Solubility (LogS): -3.2179999351501465\n",
      "Toxicity Probability: 🧪 Toxicity Probability: 0.352\n"
     ]
    }
   ],
   "source": [
    "from Solubility_Predictor import predict_logS\n",
    "from Toxicity_Predictor import predict_toxicity\n",
    "import numpy as np\n",
    "from rdkit import Chem\n",
    "from rdkit.Chem import Descriptors\n",
    "from rdkit.Chem import Crippen, Lipinski, QED\n",
    "from rdkit.Chem.rdMolDescriptors import CalcTPSA, CalcNumRotatableBonds\n",
    "\n",
    "def get_rdkit_properties(smiles):\n",
    "    mol = Chem.MolFromSmiles(smiles)\n",
    "    if mol is None:\n",
    "        return {\"Error\": \"Invalid SMILES\"}\n",
    "\n",
    "    return {\n",
    "        \"Canonical SMILES\": Chem.MolToSmiles(mol),\n",
    "        \"Molecular Formula\": Chem.rdMolDescriptors.CalcMolFormula(mol),\n",
    "        \"Molecular Weight\": round(Descriptors.MolWt(mol), 3),\n",
    "        \"LogP\": round(Crippen.MolLogP(mol), 3),\n",
    "        \"H-Bond Donors\": Lipinski.NumHDonors(mol),\n",
    "        \"H-Bond Acceptors\": Lipinski.NumHAcceptors(mol),\n",
    "        \"TPSA (Å²)\": round(CalcTPSA(mol), 3),\n",
    "        \"Rotatable Bonds\": CalcNumRotatableBonds(mol),\n",
    "        \"Formal Charge\": Chem.GetFormalCharge(mol),\n",
    "        \"QED Score\": round(QED.qed(mol), 3)\n",
    "    }\n",
    "\n",
    "def predict_all_properties(smiles):\n",
    "    results = get_rdkit_properties(smiles)\n",
    "\n",
    "    # If RDKit fails, skip ML parts too\n",
    "    if \"Error\" in results:\n",
    "        return results\n",
    "\n",
    "    # Add ML-based predictions\n",
    "    results[\"Solubility (LogS)\"] = predict_logS(smiles)\n",
    "    results[\"Toxicity Probability\"] = predict_toxicity(smiles)\n",
    "\n",
    "    return results\n",
    "\n",
    "if __name__ == \"__main__\":\n",
    "    test_smiles = \"Cc1occc1C(=O)Nc2ccccc2\"  \n",
    "    props = predict_all_properties(test_smiles)\n",
    "    for k, v in props.items():\n",
    "        print(f\"{k}: {v}\")\n"
   ]
  },
  {
   "cell_type": "code",
   "execution_count": null,
   "id": "6cef8a7a",
   "metadata": {},
   "outputs": [],
   "source": []
  }
 ],
 "metadata": {
  "kernelspec": {
   "display_name": "Python 3",
   "language": "python",
   "name": "python3"
  },
  "language_info": {
   "codemirror_mode": {
    "name": "ipython",
    "version": 3
   },
   "file_extension": ".py",
   "mimetype": "text/x-python",
   "name": "python",
   "nbconvert_exporter": "python",
   "pygments_lexer": "ipython3",
   "version": "3.10.7"
  }
 },
 "nbformat": 4,
 "nbformat_minor": 5
}
